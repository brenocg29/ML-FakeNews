{
  "nbformat": 4,
  "nbformat_minor": 0,
  "metadata": {
    "kernelspec": {
      "display_name": "Python 3 (system-wide)",
      "language": "python",
      "metadata": {
        "cocalc": {
          "description": "Python 3 programming language",
          "priority": 100,
          "url": "https://www.python.org/"
        }
      },
      "name": "python3"
    },
    "colab": {
      "name": "Welcome to CoCalc.ipynb",
      "provenance": [],
      "collapsed_sections": [],
      "machine_shape": "hm"
    }
  },
  "cells": [
    {
      "cell_type": "code",
      "metadata": {
        "scrolled": true,
        "id": "RitOLAH9mfNh",
        "colab_type": "code",
        "outputId": "3f27d98a-14a3-4558-c421-1a59006e58de",
        "colab": {}
      },
      "source": [
        "pip install scikit-learn\n"
      ],
      "execution_count": 0,
      "outputs": [
        {
          "output_type": "stream",
          "text": [
            "Defaulting to user installation because normal site-packages is not writeable\r\n"
          ],
          "name": "stdout"
        },
        {
          "output_type": "stream",
          "text": [
            "Requirement already satisfied: scikit-learn in /usr/local/lib/python3.6/dist-packages (0.22.2.post1)\r\n",
            "Requirement already satisfied: numpy>=1.11.0 in /usr/local/lib/python3.6/dist-packages (from scikit-learn) (1.18.2)\r\n",
            "Requirement already satisfied: joblib>=0.11 in /usr/local/lib/python3.6/dist-packages (from scikit-learn) (0.14.1)\r\n",
            "Requirement already satisfied: scipy>=0.17.0 in /usr/local/lib/python3.6/dist-packages (from scikit-learn) (1.4.1)\r\n"
          ],
          "name": "stdout"
        },
        {
          "output_type": "stream",
          "text": [
            "Note: you may need to restart the kernel to use updated packages.\n"
          ],
          "name": "stdout"
        }
      ]
    },
    {
      "cell_type": "code",
      "metadata": {
        "id": "maAtcY69mfNv",
        "colab_type": "code",
        "colab": {}
      },
      "source": [
        "import sklearn\n"
      ],
      "execution_count": 0,
      "outputs": []
    },
    {
      "cell_type": "code",
      "metadata": {
        "id": "6lPYqjukmfN6",
        "colab_type": "code",
        "colab": {}
      },
      "source": [
        "from sklearn.linear_model import LinearRegression\n"
      ],
      "execution_count": 0,
      "outputs": []
    },
    {
      "cell_type": "code",
      "metadata": {
        "id": "d8x5an5zmfOA",
        "colab_type": "code",
        "colab": {}
      },
      "source": [
        "import numpy as np\n",
        "import pandas as pd\n",
        "from sklearn.naive_bayes import GaussianNB\n",
        "from sklearn.naive_bayes import MultinomialNB\n",
        "from sklearn.model_selection import train_test_split\n",
        "from sklearn.preprocessing import LabelEncoder\n",
        "from sklearn.preprocessing import OneHotEncoder\n",
        "import re\n",
        "import string\n",
        "from numpy import array\n",
        "from sklearn.preprocessing import MultiLabelBinarizer\n",
        "from sklearn.neighbors import KNeighborsClassifier\n",
        "from sklearn.svm import SVC"
      ],
      "execution_count": 0,
      "outputs": []
    },
    {
      "cell_type": "code",
      "metadata": {
        "scrolled": true,
        "id": "LtV0ZEqcmfOS",
        "colab_type": "code",
        "colab": {}
      },
      "source": [
        "dataset_fake = pd.read_csv(\"/content/Fake.csv\")\n",
        "dataset_true = pd.read_csv(\"/content/Fake.csv\")\n",
        "dataset_fake[\"label\"] = \"F\"\n",
        "dataset_true[\"label\"] = \"T\"\n",
        "frames = [dataset_fake,dataset_true]\n",
        "datasetCompleto = pd.concat(frames)\n",
        "X_train, X_test, y_train, y_test = train_test_split(datasetCompleto[\"title\"],datasetCompleto[\"label\"], test_size=0.33, random_state=42,shuffle=True)\n",
        "\n",
        "X_train_token =[[]]\n",
        "for i in X_train:\n",
        "    X_train_token.append(i.upper().split())\n",
        "X_test_token = [[]]\n",
        "for i in X_test:\n",
        "    X_test_token.append(i.upper().split())\n",
        "table = str.maketrans('', '', string.punctuation)\n",
        "stripped_Xtrain = [[]]\n",
        "stripped_Xtest = [[]]\n",
        "for i in X_train_token:\n",
        "    stripped_Xtrain.append([w.translate(table) for w in i])\n",
        "for i in X_test_token:\n",
        "    stripped_Xtest.append([w.translate(table) for w in i])\n",
        "stripped_Xtrain = stripped_Xtrain[2:]\n",
        "stripped_Xtest = stripped_Xtest[2:]\n",
        "one_hot = MultiLabelBinarizer()\n",
        "one_hot.fit(stripped_Xtrain+stripped_Xtest)\n",
        "integer_encoded_t = one_hot.transform(stripped_Xtrain)\n",
        "integer_encoded_te = one_hot.transform(stripped_Xtest)\n",
        "\n",
        "clf = SVC()\n",
        "clf.fit(integer_encoded_t,y_train)\n",
        "print(clf.score(integer_encoded_te,y_test))"
      ],
      "execution_count": 0,
      "outputs": []
    }
  ]
}
